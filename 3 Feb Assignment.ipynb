{
 "cells": [
  {
   "cell_type": "markdown",
   "id": "a15433d0-c1e2-4cba-92a3-709aec5d4ee6",
   "metadata": {},
   "source": [
    "3 FEBRUARY ASSIGNMENT"
   ]
  },
  {
   "cell_type": "markdown",
   "id": "67494aa3-13c5-473d-94e8-4c4d73122ffb",
   "metadata": {},
   "source": [
    "Q1. Which keyword is used to create a function? Create a function to return a list of odd numbers in the\n",
    "range of 1 to 25."
   ]
  },
  {
   "cell_type": "code",
   "execution_count": 8,
   "id": "c39208d0-839d-4c6e-a17e-a3d47056e185",
   "metadata": {},
   "outputs": [],
   "source": [
    "#ANSWER\n",
    "#Def keyword is used to create a function.\n",
    "l = []\n",
    "def odd_numbers():\n",
    "    for n in range(1,26):\n",
    "        if n % 2 != 0:\n",
    "            l.append(n)\n",
    "        n = n + 1\n",
    "    return l"
   ]
  },
  {
   "cell_type": "code",
   "execution_count": 9,
   "id": "358e59ad-4afc-42fa-be4b-6404bf12bcc6",
   "metadata": {},
   "outputs": [
    {
     "data": {
      "text/plain": [
       "[1, 3, 5, 7, 9, 11, 13, 15, 17, 19, 21, 23, 25]"
      ]
     },
     "execution_count": 9,
     "metadata": {},
     "output_type": "execute_result"
    }
   ],
   "source": [
    "odd_numbers()"
   ]
  },
  {
   "cell_type": "markdown",
   "id": "245a2f9b-a74e-44ad-8643-3cf2e5888009",
   "metadata": {},
   "source": [
    "Q2. Why *args and **kwargs is used in some functions? Create a function each for *args and **kwargs\n",
    "to demonstrate their use."
   ]
  },
  {
   "cell_type": "code",
   "execution_count": 10,
   "id": "7f563535-4643-4bd0-8cb4-28fff564ccca",
   "metadata": {},
   "outputs": [],
   "source": [
    "#ANSWER"
   ]
  },
  {
   "cell_type": "markdown",
   "id": "415df4d4-1988-493c-b63b-70e2197830c5",
   "metadata": {},
   "source": [
    "When we are unsure about the number of parameters to be passed then we use *args in the function and if we want to pass dictionary in a function then **kargs is used in the function."
   ]
  },
  {
   "cell_type": "code",
   "execution_count": 11,
   "id": "076a5da1-3ec2-4eff-ad07-15223a64d7eb",
   "metadata": {},
   "outputs": [],
   "source": [
    "#Example of *args \n",
    "def adder(*args):\n",
    "    sum = 0\n",
    "    for i in args:\n",
    "        sum = sum + i \n",
    "    return sum"
   ]
  },
  {
   "cell_type": "code",
   "execution_count": 12,
   "id": "f0909107-9cf9-451e-8d26-61f553ca72be",
   "metadata": {},
   "outputs": [
    {
     "data": {
      "text/plain": [
       "50"
      ]
     },
     "execution_count": 12,
     "metadata": {},
     "output_type": "execute_result"
    }
   ],
   "source": [
    "adder(14,36)"
   ]
  },
  {
   "cell_type": "code",
   "execution_count": 18,
   "id": "a484a26f-62c1-4d15-9a0e-6d09dbaa0a85",
   "metadata": {},
   "outputs": [],
   "source": [
    "#Example of **kargs\n",
    "def intro(**kargs):\n",
    "    print(\"Data type of argument:\",type(kargs))\n",
    "\n",
    "    for key, value in kargs.items():\n",
    "        print(\"{} is {}\".format(key,value))"
   ]
  },
  {
   "cell_type": "code",
   "execution_count": 20,
   "id": "29f4eadc-9ac7-42b1-8851-81fd0cc7d843",
   "metadata": {},
   "outputs": [
    {
     "name": "stdout",
     "output_type": "stream",
     "text": [
      "Data type of argument: <class 'dict'>\n",
      "Name is Tanmay\n",
      "email is singhtanmay@gmail.com\n",
      "number is 837382929\n"
     ]
    }
   ],
   "source": [
    "intro(Name = \"Tanmay\", email = \"singhtanmay@gmail.com\", number = 837382929)"
   ]
  },
  {
   "cell_type": "markdown",
   "id": "146a7ffe-3c1a-4572-a686-bd37d58d8ebd",
   "metadata": {},
   "source": [
    "Q3. What is an iterator in python? Name the method used to initialise the iterator object and the method\n",
    "used for iteration. Use these methods to print the first five elements of the given list [2, 4, 6, 8, 10, 12, 14,\n",
    "16, 18, 20]."
   ]
  },
  {
   "cell_type": "code",
   "execution_count": 21,
   "id": "73efd1a2-347a-4711-9bfc-010c9951d79d",
   "metadata": {},
   "outputs": [],
   "source": [
    "#ANSWER"
   ]
  },
  {
   "cell_type": "markdown",
   "id": "99ac6d3a-c5d6-486e-8841-0643a088dc61",
   "metadata": {},
   "source": [
    "An iterator is an object that contains a countable number of values. iter() method is used to initilise thr iterator object ."
   ]
  },
  {
   "cell_type": "code",
   "execution_count": 24,
   "id": "48317358-a8ab-410e-98da-03f3ae4dd3a8",
   "metadata": {},
   "outputs": [
    {
     "name": "stdout",
     "output_type": "stream",
     "text": [
      "2\n",
      "4\n",
      "6\n",
      "8\n",
      "10\n"
     ]
    }
   ],
   "source": [
    "l = [2,4,6,8,10,12,14,16,18,20]\n",
    "l2 = iter(l)\n",
    "print(next(l2))\n",
    "print(next(l2))\n",
    "print(next(l2))\n",
    "print(next(l2))\n",
    "print(next(l2))"
   ]
  },
  {
   "cell_type": "markdown",
   "id": "0919bafb-eaf2-423d-8fa5-73d066a2bfc8",
   "metadata": {},
   "source": [
    "Q4. What is a generator function in python? Why yield keyword is used? Give an example of a generator\n",
    "function."
   ]
  },
  {
   "cell_type": "markdown",
   "id": "006147e3-3df2-441d-82f3-26cc3fc54c93",
   "metadata": {},
   "source": [
    "Generator function is a function that returns an iterator that produces a sequence of values when iterated over. Yield keyword is used to ceate a generator function."
   ]
  },
  {
   "cell_type": "code",
   "execution_count": 26,
   "id": "680558a0-25d7-47c5-ab95-db5278a42e16",
   "metadata": {},
   "outputs": [],
   "source": [
    "#Example \n",
    "def generator_function():\n",
    "    yield 1\n",
    "    yield 2 \n",
    "    yield 3"
   ]
  },
  {
   "cell_type": "code",
   "execution_count": 28,
   "id": "d25a8485-8597-49e8-bd47-63dcf687545e",
   "metadata": {},
   "outputs": [
    {
     "name": "stdout",
     "output_type": "stream",
     "text": [
      "1\n",
      "2\n",
      "3\n"
     ]
    }
   ],
   "source": [
    "for value in generator_function():\n",
    "    print(value)"
   ]
  },
  {
   "cell_type": "markdown",
   "id": "f843d9b7-3342-4ad2-8963-b2c078f8ca85",
   "metadata": {},
   "source": [
    "Q5. Create a generator function for prime numbers less than 1000. Use the next() method to print the\n",
    "first 20 prime numbers."
   ]
  },
  {
   "cell_type": "code",
   "execution_count": 44,
   "id": "8a1928c0-c067-4881-81e7-97e377a8cb8a",
   "metadata": {},
   "outputs": [],
   "source": [
    "#Answer\n",
    "def prime_number():\n",
    "    for i in range(1,1000):\n",
    "        if i/i == 1:\n",
    "            yield i\n",
    "        i = i + 1\n",
    "    print(i)"
   ]
  },
  {
   "cell_type": "code",
   "execution_count": 45,
   "id": "b80d3f9b-93bf-4b50-8d7b-02953903d343",
   "metadata": {},
   "outputs": [
    {
     "data": {
      "text/plain": [
       "<generator object prime_number at 0x7f0cdc1d0660>"
      ]
     },
     "execution_count": 45,
     "metadata": {},
     "output_type": "execute_result"
    }
   ],
   "source": [
    "prime_number()"
   ]
  },
  {
   "cell_type": "markdown",
   "id": "99ad0c4a-e283-4164-96b3-f7a739e60fe9",
   "metadata": {},
   "source": [
    "Q6. Write a python program to print the first 10 Fibonacci numbers using a while loop."
   ]
  },
  {
   "cell_type": "code",
   "execution_count": 46,
   "id": "54fd62a7-4adc-4f08-9058-72f6dc4a18a4",
   "metadata": {},
   "outputs": [
    {
     "name": "stdout",
     "output_type": "stream",
     "text": [
      "Fibonacci series is:  0 1 0 1 1 2 3 5 8 13 "
     ]
    }
   ],
   "source": [
    "#Answer\n",
    "a = 0\n",
    "b = 1\n",
    "sum = 0\n",
    "count = 1\n",
    "print(\"Fibonacci series is: \", end = \" \")\n",
    "while(count <= 10):\n",
    "  count += 1\n",
    "  print(a, end=\" \")\n",
    "  a = b\n",
    "  b = sum\n",
    "  sum = a + b"
   ]
  },
  {
   "cell_type": "markdown",
   "id": "fadf0dff-fc3d-4b95-a345-a16741778679",
   "metadata": {},
   "source": [
    "Q7. Write a List Comprehension to iterate through the given string: ‘pwskills’."
   ]
  },
  {
   "cell_type": "code",
   "execution_count": 50,
   "id": "442af6d4-c2d2-4606-8278-b5c59692ad00",
   "metadata": {},
   "outputs": [
    {
     "name": "stdout",
     "output_type": "stream",
     "text": [
      "['p', 'w', 's', 'k', 'i', 'l', 'l', 's']\n"
     ]
    }
   ],
   "source": [
    "#Answer\n",
    "string = 'pwskills'\n",
    "l = []\n",
    "for i in string:\n",
    "    l.append(i)\n",
    "print(l)"
   ]
  },
  {
   "cell_type": "markdown",
   "id": "c78552c7-beb4-4a32-92b6-f16bd3a18147",
   "metadata": {},
   "source": [
    "Q8. Write a python program to check whether a given number is Palindrome or not using a while loop."
   ]
  },
  {
   "cell_type": "code",
   "execution_count": 55,
   "id": "daadaea4-2964-49f3-944c-1c2f1ab89bf6",
   "metadata": {},
   "outputs": [
    {
     "name": "stdin",
     "output_type": "stream",
     "text": [
      "Enter any number: 1212121\n"
     ]
    },
    {
     "name": "stdout",
     "output_type": "stream",
     "text": [
      "The 1212121 number is palindrome!\n"
     ]
    }
   ],
   "source": [
    "#ANSWERS\n",
    "num=int(input(\"Enter any number:\"))\n",
    "temp=num\n",
    "rev=0\n",
    "while(num>0):\n",
    "    dig=num%10\n",
    "    rev=rev*10+dig\n",
    "    num=num//10\n",
    "if(temp==rev):\n",
    "    print(\"The {0} number is palindrome!\".format(temp))\n",
    "else:\n",
    "    print(\"Not a palindrome!\")"
   ]
  },
  {
   "cell_type": "markdown",
   "id": "255aa873-5734-43bb-9050-2b40e69929c0",
   "metadata": {},
   "source": [
    "Q9. Write a code to print odd numbers from 1 to 100 using list comprehension."
   ]
  },
  {
   "cell_type": "code",
   "execution_count": 61,
   "id": "34ef2201-b933-44fa-9910-d5aaf736c9c4",
   "metadata": {},
   "outputs": [
    {
     "name": "stdout",
     "output_type": "stream",
     "text": [
      "[1, 3, 5, 7, 9, 11, 13, 15, 17, 19, 21, 23, 25, 27, 29, 31, 33, 35, 37, 39, 41, 43, 45, 47, 49, 51, 53, 55, 57, 59, 61, 63, 65, 67, 69, 71, 73, 75, 77, 79, 81, 83, 85, 87, 89, 91, 93, 95, 97, 99]\n"
     ]
    }
   ],
   "source": [
    "#ANSWERS\n",
    "l = []\n",
    "i = 1\n",
    "while i <= 100:\n",
    "    l.append(i)\n",
    "    i = i + 1\n",
    "l2 = []\n",
    "for j in l:\n",
    "    if j % 2 != 0:\n",
    "        l2.append(j)\n",
    "print(l2)"
   ]
  }
 ],
 "metadata": {
  "kernelspec": {
   "display_name": "Python 3 (ipykernel)",
   "language": "python",
   "name": "python3"
  },
  "language_info": {
   "codemirror_mode": {
    "name": "ipython",
    "version": 3
   },
   "file_extension": ".py",
   "mimetype": "text/x-python",
   "name": "python",
   "nbconvert_exporter": "python",
   "pygments_lexer": "ipython3",
   "version": "3.10.8"
  }
 },
 "nbformat": 4,
 "nbformat_minor": 5
}
